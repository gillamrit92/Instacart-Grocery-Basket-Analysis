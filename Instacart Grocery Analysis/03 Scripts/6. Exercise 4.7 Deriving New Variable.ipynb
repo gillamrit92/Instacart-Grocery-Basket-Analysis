{
 "cells": [
  {
   "cell_type": "markdown",
   "id": "b79a7c1d-566e-4ba7-b816-90d848543fdb",
   "metadata": {},
   "source": [
    "# Import Libraries"
   ]
  },
  {
   "cell_type": "code",
   "execution_count": 2,
   "id": "f87f9120-bdee-4f1e-8b9e-bb6f49718a35",
   "metadata": {},
   "outputs": [],
   "source": [
    "# Importing pandas and numpy libraries\n",
    "import pandas as pd\n",
    "import numpy as np\n",
    "import os"
   ]
  },
  {
   "cell_type": "code",
   "execution_count": 3,
   "id": "dea12994-57e9-4e35-a164-6240c7370d3b",
   "metadata": {},
   "outputs": [],
   "source": [
    "# Turn folder path into string named as path\n",
    "path =  r'/Users/amritkaur/Desktop/CF Data Immersion/Chapter 4/Achievement 4'"
   ]
  },
  {
   "cell_type": "code",
   "execution_count": 24,
   "id": "12c1c84e-27f7-4ae3-a82c-76e7692e597d",
   "metadata": {},
   "outputs": [],
   "source": [
    "# Import pickle file from Prepared Data\n",
    "df_ords_prods_merge = pd.read_pickle(os.path.join(path, '02 Data', 'Prepared Data', 'ords_prods_merge.pkl'))"
   ]
  },
  {
   "cell_type": "code",
   "execution_count": null,
   "id": "ef6bed4a-ce1c-4fd0-a8fc-1286d68a9bb2",
   "metadata": {},
   "outputs": [],
   "source": [
    "# Create a subset of first million rows\n",
    "df = df_ords_prods_merge[:1000000]"
   ]
  },
  {
   "cell_type": "code",
   "execution_count": null,
   "id": "60a0b38d-a8e0-4c6b-bc08-cfa3257a9b0a",
   "metadata": {},
   "outputs": [],
   "source": [
    "# Define a function for price label\n",
    "def price_label(row):\n",
    "\n",
    "  if row['prices'] <= 5:\n",
    "    return 'Low-range product'\n",
    "  elif (row['prices'] > 5) and (row['prices'] <= 15):\n",
    "    return 'Mid-range product'\n",
    "  elif row['prices'] > 15:\n",
    "    return 'High range'\n",
    "  else: return 'Not enough data'"
   ]
  },
  {
   "cell_type": "code",
   "execution_count": null,
   "id": "b45b240b-de34-4f2d-af7e-a62762c5a148",
   "metadata": {},
   "outputs": [],
   "source": [
    "# Apply price range function.\n",
    "df['price_range'] = df.apply(price_label, axis=1)"
   ]
  },
  {
   "cell_type": "code",
   "execution_count": null,
   "id": "24ca8ae1-1b36-47a8-a331-a5624f93cb1b",
   "metadata": {},
   "outputs": [],
   "source": [
    "df.shape"
   ]
  },
  {
   "cell_type": "code",
   "execution_count": null,
   "id": "0864190f-a549-4a7f-a291-b223ee409a3c",
   "metadata": {},
   "outputs": [],
   "source": [
    "# If-Statements with the loc() Function\n",
    "df.loc[df['prices'] > 15, 'price_range_loc'] = 'High-range product'"
   ]
  },
  {
   "cell_type": "code",
   "execution_count": null,
   "id": "5283b03b-b384-49f0-a938-0b32dfafd269",
   "metadata": {},
   "outputs": [],
   "source": [
    "df.loc[(df['prices'] <= 15) & (df['prices'] > 5), 'price_range_loc'] = 'Mid-range product' "
   ]
  },
  {
   "cell_type": "code",
   "execution_count": null,
   "id": "47f6afe4-cb70-406e-87db-5dc130c1b358",
   "metadata": {},
   "outputs": [],
   "source": [
    "df.loc[df['prices'] <= 5, 'price_range_loc'] = 'Low-range product'"
   ]
  },
  {
   "cell_type": "code",
   "execution_count": null,
   "id": "8cea6ddc-a3bb-44f3-a446-9ec8dba16257",
   "metadata": {},
   "outputs": [],
   "source": [
    "df['price_range_loc'].value_counts(dropna = False)"
   ]
  },
  {
   "cell_type": "code",
   "execution_count": null,
   "id": "b332a0f3-270c-49b4-9f8d-6481820b6bf9",
   "metadata": {},
   "outputs": [],
   "source": [
    "# Find the frequency of 'order_day_of_week'.\n",
    "df_ords_prods_merge['order_day_of_week'].value_counts(dropna = False)\n"
   ]
  },
  {
   "cell_type": "code",
   "execution_count": null,
   "id": "6c49a216-ede7-43fb-b724-cfb6767a1cc0",
   "metadata": {},
   "outputs": [],
   "source": [
    "result = []\n",
    "\n",
    "for value in df_ords_prods_merge['order_day_of_week']:\n",
    "  if value == 0:\n",
    "    result.append('Busiest day')\n",
    "  elif value == 4:\n",
    "    result.append('Least busy')\n",
    "  else:\n",
    "    result.append('Regularly busy')"
   ]
  },
  {
   "cell_type": "code",
   "execution_count": null,
   "id": "815368f2-092a-433a-a294-3d7c65c7cbdf",
   "metadata": {},
   "outputs": [],
   "source": [
    "result"
   ]
  },
  {
   "cell_type": "code",
   "execution_count": null,
   "id": "05a665ed-629c-48dc-9a76-c10defff7d64",
   "metadata": {},
   "outputs": [],
   "source": [
    "df_ords_prods_merge['Busiest Day'] = result"
   ]
  },
  {
   "cell_type": "code",
   "execution_count": null,
   "id": "c839f481-a41b-4183-bb68-78a48efc3169",
   "metadata": {},
   "outputs": [],
   "source": [
    "df_ords_prods_merge['Busiest Day'].value_counts(dropna = False)"
   ]
  },
  {
   "cell_type": "markdown",
   "id": "99eef864-991a-4e1c-b4aa-2ca089dc0c78",
   "metadata": {},
   "source": [
    "# Update 'Busiest day' column to 'Busiest days' to identify order day of the week as 'Busiest days', 'Slowest days',  or 'Regularly busy'."
   ]
  },
  {
   "cell_type": "code",
   "execution_count": null,
   "id": "8baac514-5674-4687-8c7f-439e1cb37458",
   "metadata": {},
   "outputs": [],
   "source": [
    "# Create column “busiest_days\" from \"orders_day_of_week\" to identify two busiest days (0, 1), slowest days (4, 3), or regularly busy (all other days).\n",
    "\n",
    "result_2 = []\n",
    "\n",
    "for value in df_ords_prods_merge['order_day_of_week']:\n",
    "  if value == 0 or value == 1:\n",
    "    result_2.append('Busiest days')\n",
    "  elif value == 4 or value == 3:\n",
    "    result_2.append('Slowest days')\n",
    "  else:\n",
    "    result_2.append('Regularly busy')"
   ]
  },
  {
   "cell_type": "code",
   "execution_count": null,
   "id": "0c2617ef-1b9c-4244-8eb1-9df11788fc31",
   "metadata": {},
   "outputs": [],
   "source": [
    "result_2"
   ]
  },
  {
   "cell_type": "code",
   "execution_count": null,
   "id": "9064133e-2660-4503-9d21-b4121aaa9d7e",
   "metadata": {},
   "outputs": [],
   "source": [
    "df_ords_prods_merge.head(50)"
   ]
  },
  {
   "cell_type": "markdown",
   "id": "91891b08-e5f0-4687-9d6e-59cf087a8b66",
   "metadata": {},
   "source": [
    "# Check the values of 'Busiest Days' for accuracy. Note any observations in markdown format."
   ]
  },
  {
   "cell_type": "code",
   "execution_count": null,
   "id": "e763e79a-09bf-4f48-abbb-408bae340514",
   "metadata": {},
   "outputs": [],
   "source": [
    "# Create new 'busiest_days' column in ords_prods_merge to view results in context.\n",
    "df_ords_prods_merge['Busiest_days'] = result_2"
   ]
  },
  {
   "cell_type": "code",
   "execution_count": null,
   "id": "5605e0d6-670f-4bf6-826f-2bb635d2cee8",
   "metadata": {},
   "outputs": [],
   "source": [
    "df_ords_prods_merge['Busiest_days'].value_counts(dropna = False)"
   ]
  },
  {
   "cell_type": "markdown",
   "id": "b57e8c12-dd09-45dc-94aa-38b555117a2f",
   "metadata": {},
   "source": [
    "The total count of whole dataframe is same as the total sum of grouping columns i.e. Regularly busy, Busiest days and Slowest days. "
   ]
  },
  {
   "cell_type": "markdown",
   "id": "a5129c18-f066-4e64-a053-0a0d3d0fed43",
   "metadata": {},
   "source": [
    "# Create a new column named as 'busiest_period_of_day' to identify periods of time labeled “Most orders,” “Average orders,” and “Fewest orders.”"
   ]
  },
  {
   "cell_type": "code",
   "execution_count": null,
   "id": "591b8058-b4d7-49cc-b804-3e325b8e0538",
   "metadata": {},
   "outputs": [],
   "source": [
    "# Check value counts in \"order_hour_of_day\" column.\n",
    "df_ords_prods_merge['order_hour_of_day'].value_counts()"
   ]
  },
  {
   "cell_type": "code",
   "execution_count": null,
   "id": "16920f8e-3f07-42ff-95cd-444cefe4f3b3",
   "metadata": {},
   "outputs": [],
   "source": [
    "# Create for-loop if statement labeling periods of time as “Most orders,” “Average orders,” and “Fewest orders.”\n",
    "result_3 = []\n",
    "\n",
    "for value in df_ords_prods_merge[\"order_hour_of_day\"]:\n",
    "  if value in [10, 11, 14, 15, 13, 12, 16, 9]:\n",
    "    result_3.append(\"Most orders\")\n",
    "  elif value in [23, 6, 0, 1, 5, 2, 4, 3]:\n",
    "    result_3.append(\"Fewest orders\")\n",
    "  else:\n",
    "    result_3.append(\"Average orders\")"
   ]
  },
  {
   "cell_type": "code",
   "execution_count": null,
   "id": "269f49e1-5485-4576-a46c-ee4f1f4aeda0",
   "metadata": {},
   "outputs": [],
   "source": [
    "result_3"
   ]
  },
  {
   "cell_type": "code",
   "execution_count": null,
   "id": "212c4312-c45b-444b-aaf2-1c8701010b4f",
   "metadata": {},
   "outputs": [],
   "source": [
    "# Create new column \"busiest_period_of_day\" in ords_prods_merge.\n",
    "df_ords_prods_merge['busiest_period_of_day'] = result_3"
   ]
  },
  {
   "cell_type": "markdown",
   "id": "ec5b6560-0197-4316-b339-c55eb34371f6",
   "metadata": {},
   "source": [
    "# Print the frequency for this new column."
   ]
  },
  {
   "cell_type": "code",
   "execution_count": null,
   "id": "a24e1c68-3042-4952-8cba-859dba925cfc",
   "metadata": {},
   "outputs": [],
   "source": [
    "# Print the counts in \"busiest_period_of_day\" column.\n",
    "df_ords_prods_merge['busiest_period_of_day'].value_counts(dropna = False)"
   ]
  },
  {
   "cell_type": "markdown",
   "id": "742728a7-9e3e-46f0-8450-2cce388437d9",
   "metadata": {},
   "source": [
    "# Export your dataframe as a pickle file "
   ]
  },
  {
   "cell_type": "code",
   "execution_count": null,
   "id": "b8e65ea3-acfb-4f70-826c-677102def37d",
   "metadata": {},
   "outputs": [],
   "source": [
    "df_ords_prods_merge.to_pickle(os.path.join(path, '02 Data', 'Prepared Data', 'orders_products_merged_derived.pkl'))"
   ]
  },
  {
   "cell_type": "code",
   "execution_count": null,
   "id": "a417489c-74a8-4766-bd92-795e0d283094",
   "metadata": {},
   "outputs": [],
   "source": []
  }
 ],
 "metadata": {
  "kernelspec": {
   "display_name": "Python 3 (ipykernel)",
   "language": "python",
   "name": "python3"
  },
  "language_info": {
   "codemirror_mode": {
    "name": "ipython",
    "version": 3
   },
   "file_extension": ".py",
   "mimetype": "text/x-python",
   "name": "python",
   "nbconvert_exporter": "python",
   "pygments_lexer": "ipython3",
   "version": "3.12.4"
  }
 },
 "nbformat": 4,
 "nbformat_minor": 5
}
