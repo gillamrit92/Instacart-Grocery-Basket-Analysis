{
 "cells": [
  {
   "cell_type": "markdown",
   "id": "40b41aea-119b-4f93-bdc7-52366521547c",
   "metadata": {},
   "source": [
    "# 1. IMPORT LIBRARIES"
   ]
  },
  {
   "cell_type": "code",
   "execution_count": 3,
   "id": "c8771a92-7f3e-4df8-ad15-b5bf49f85823",
   "metadata": {},
   "outputs": [],
   "source": [
    "import pandas as pd #importing pandas library\n",
    "import numpy as np #importing NumPy library\n",
    "import os #importing os"
   ]
  },
  {
   "cell_type": "markdown",
   "id": "3945a9b4-ddec-4c80-bc7d-d35ea9cb59d9",
   "metadata": {},
   "source": [
    "# 2. PYTHON DATA TYPES\n"
   ]
  },
  {
   "cell_type": "markdown",
   "id": "62dd65b8-9036-4ef7-ad3e-a7e64ff9f4b6",
   "metadata": {},
   "source": [
    "## Code 3 different ways of reaching a result of 100 by adding or subtracting numeric variables."
   ]
  },
  {
   "cell_type": "markdown",
   "id": "0778697c-317a-4542-9af4-0a0fa4057844",
   "metadata": {},
   "source": [
    "### Substraction"
   ]
  },
  {
   "cell_type": "code",
   "execution_count": 45,
   "id": "6405303b-fb8e-46d5-afae-71caae4b0b90",
   "metadata": {},
   "outputs": [],
   "source": [
    "x = 150\n",
    "y = 50"
   ]
  },
  {
   "cell_type": "code",
   "execution_count": 47,
   "id": "bb68793b-5504-4f52-aed2-f2d7a56c5010",
   "metadata": {},
   "outputs": [
    {
     "data": {
      "text/plain": [
       "100"
      ]
     },
     "execution_count": 47,
     "metadata": {},
     "output_type": "execute_result"
    }
   ],
   "source": [
    "x - y"
   ]
  },
  {
   "cell_type": "markdown",
   "id": "3e3c9213-9937-4fff-8658-7f1ab713c0f5",
   "metadata": {},
   "source": [
    "### Addition"
   ]
  },
  {
   "cell_type": "code",
   "execution_count": 34,
   "id": "2f00e52b-9e82-44dc-8b53-10a304e8443b",
   "metadata": {},
   "outputs": [],
   "source": [
    "x = 50\n",
    "y = 25\n",
    "z = 25"
   ]
  },
  {
   "cell_type": "code",
   "execution_count": 36,
   "id": "ebd9c71b-7a3a-41c9-b516-3eb3eccf9402",
   "metadata": {},
   "outputs": [
    {
     "data": {
      "text/plain": [
       "100"
      ]
     },
     "execution_count": 36,
     "metadata": {},
     "output_type": "execute_result"
    }
   ],
   "source": [
    "x + y + z"
   ]
  },
  {
   "cell_type": "markdown",
   "id": "137178fa-7ac3-4182-acfc-b636229d9118",
   "metadata": {},
   "source": [
    "### Combination of addition and substraction"
   ]
  },
  {
   "cell_type": "code",
   "execution_count": 38,
   "id": "7236d86f-5f21-4902-be64-c99a8c1478a4",
   "metadata": {},
   "outputs": [],
   "source": [
    "x = 200\n",
    "y = 50\n",
    "z = 50"
   ]
  },
  {
   "cell_type": "code",
   "execution_count": 40,
   "id": "91e0f3c3-c4c7-4193-a8eb-5b3953ea5e2b",
   "metadata": {},
   "outputs": [
    {
     "data": {
      "text/plain": [
       "100"
      ]
     },
     "execution_count": 40,
     "metadata": {},
     "output_type": "execute_result"
    }
   ],
   "source": [
    "x-(y + z)"
   ]
  },
  {
   "cell_type": "markdown",
   "id": "f0a5391c-2414-4dfa-ae93-a377ca4f5499",
   "metadata": {},
   "source": [
    "## Code 2 floating-point variables and divide them by each other."
   ]
  },
  {
   "cell_type": "code",
   "execution_count": 55,
   "id": "fbce200b-a10a-40c7-9871-36b9ba5a114c",
   "metadata": {},
   "outputs": [],
   "source": [
    "# Define two floating-point variables\n",
    "a = 40.234\n",
    "b = 2.5"
   ]
  },
  {
   "cell_type": "code",
   "execution_count": 57,
   "id": "3f85f22c-8049-41ec-acdb-27ceceb3400c",
   "metadata": {},
   "outputs": [
    {
     "data": {
      "text/plain": [
       "16.093600000000002"
      ]
     },
     "execution_count": 57,
     "metadata": {},
     "output_type": "execute_result"
    }
   ],
   "source": [
    "# Divide the first variable by the second\n",
    "a/b"
   ]
  },
  {
   "cell_type": "markdown",
   "id": "d73aeb70-e3f2-41fc-80c2-32c2c8cb7d92",
   "metadata": {},
   "source": [
    "## Construct a short word made of separate strings "
   ]
  },
  {
   "cell_type": "code",
   "execution_count": 64,
   "id": "fce31993-cfa0-4641-8d73-b409280b1b4f",
   "metadata": {},
   "outputs": [],
   "source": [
    "c = 'Python '\n",
    "d = 'and Jupyter'"
   ]
  },
  {
   "cell_type": "code",
   "execution_count": 66,
   "id": "09245aed-f464-49d3-bbc5-56d1118399a8",
   "metadata": {},
   "outputs": [
    {
     "data": {
      "text/plain": [
       "'Python and Jupyter'"
      ]
     },
     "execution_count": 66,
     "metadata": {},
     "output_type": "execute_result"
    }
   ],
   "source": [
    "c + d"
   ]
  },
  {
   "cell_type": "markdown",
   "id": "8028f6c1-62f3-42f9-a3d6-f73caee5dc4c",
   "metadata": {},
   "source": [
    "## Construct 2 short sentences made of separate strings."
   ]
  },
  {
   "cell_type": "code",
   "execution_count": 69,
   "id": "99f00a3d-7f69-4f35-bd7b-9b71d94ec9bb",
   "metadata": {},
   "outputs": [],
   "source": [
    "#Define two variables to store string\n",
    "e = 'Anaconda is a file- and library-management system '\n",
    "f = ' and Jupyter is the online notebook used to write and run the Python code.'"
   ]
  },
  {
   "cell_type": "code",
   "execution_count": 71,
   "id": "80548ac9-d997-408c-a197-156c23be157d",
   "metadata": {},
   "outputs": [
    {
     "data": {
      "text/plain": [
       "'Anaconda is a file- and library-management system  and Jupyter is the online notebook used to write and run the Python code.'"
      ]
     },
     "execution_count": 71,
     "metadata": {},
     "output_type": "execute_result"
    }
   ],
   "source": [
    "e + f"
   ]
  },
  {
   "cell_type": "markdown",
   "id": "2a5fa73e-434e-4555-9b8f-e6a52b539192",
   "metadata": {},
   "source": [
    "# 3. BONUS TASK"
   ]
  },
  {
   "cell_type": "code",
   "execution_count": 78,
   "id": "a03e0cbb-93b6-4848-8f40-b89f64f5d105",
   "metadata": {},
   "outputs": [
    {
     "data": {
      "text/plain": [
       "'Anaconda is a file- and library-management system  and Jupyter is the online notebook used to write and run the Python code. and Jupyter is the online notebook used to write and run the Python code. and Jupyter is the online notebook used to write and run the Python code. and Jupyter is the online notebook used to write and run the Python code. and Jupyter is the online notebook used to write and run the Python code. and Jupyter is the online notebook used to write and run the Python code. and Jupyter is the online notebook used to write and run the Python code. and Jupyter is the online notebook used to write and run the Python code. and Jupyter is the online notebook used to write and run the Python code. and Jupyter is the online notebook used to write and run the Python code. and Jupyter is the online notebook used to write and run the Python code. and Jupyter is the online notebook used to write and run the Python code. and Jupyter is the online notebook used to write and run the Python code. and Jupyter is the online notebook used to write and run the Python code. and Jupyter is the online notebook used to write and run the Python code. and Jupyter is the online notebook used to write and run the Python code. and Jupyter is the online notebook used to write and run the Python code. and Jupyter is the online notebook used to write and run the Python code. and Jupyter is the online notebook used to write and run the Python code. and Jupyter is the online notebook used to write and run the Python code. and Jupyter is the online notebook used to write and run the Python code. and Jupyter is the online notebook used to write and run the Python code. and Jupyter is the online notebook used to write and run the Python code. and Jupyter is the online notebook used to write and run the Python code. and Jupyter is the online notebook used to write and run the Python code. and Jupyter is the online notebook used to write and run the Python code. and Jupyter is the online notebook used to write and run the Python code. and Jupyter is the online notebook used to write and run the Python code. and Jupyter is the online notebook used to write and run the Python code. and Jupyter is the online notebook used to write and run the Python code. and Jupyter is the online notebook used to write and run the Python code. and Jupyter is the online notebook used to write and run the Python code. and Jupyter is the online notebook used to write and run the Python code. and Jupyter is the online notebook used to write and run the Python code. and Jupyter is the online notebook used to write and run the Python code. and Jupyter is the online notebook used to write and run the Python code. and Jupyter is the online notebook used to write and run the Python code. and Jupyter is the online notebook used to write and run the Python code. and Jupyter is the online notebook used to write and run the Python code. and Jupyter is the online notebook used to write and run the Python code. and Jupyter is the online notebook used to write and run the Python code. and Jupyter is the online notebook used to write and run the Python code. and Jupyter is the online notebook used to write and run the Python code. and Jupyter is the online notebook used to write and run the Python code. and Jupyter is the online notebook used to write and run the Python code. and Jupyter is the online notebook used to write and run the Python code. and Jupyter is the online notebook used to write and run the Python code. and Jupyter is the online notebook used to write and run the Python code. and Jupyter is the online notebook used to write and run the Python code. and Jupyter is the online notebook used to write and run the Python code. and Jupyter is the online notebook used to write and run the Python code. and Jupyter is the online notebook used to write and run the Python code. and Jupyter is the online notebook used to write and run the Python code. and Jupyter is the online notebook used to write and run the Python code. and Jupyter is the online notebook used to write and run the Python code. and Jupyter is the online notebook used to write and run the Python code. and Jupyter is the online notebook used to write and run the Python code. and Jupyter is the online notebook used to write and run the Python code. and Jupyter is the online notebook used to write and run the Python code. and Jupyter is the online notebook used to write and run the Python code. and Jupyter is the online notebook used to write and run the Python code. and Jupyter is the online notebook used to write and run the Python code. and Jupyter is the online notebook used to write and run the Python code. and Jupyter is the online notebook used to write and run the Python code. and Jupyter is the online notebook used to write and run the Python code. and Jupyter is the online notebook used to write and run the Python code. and Jupyter is the online notebook used to write and run the Python code. and Jupyter is the online notebook used to write and run the Python code. and Jupyter is the online notebook used to write and run the Python code. and Jupyter is the online notebook used to write and run the Python code. and Jupyter is the online notebook used to write and run the Python code. and Jupyter is the online notebook used to write and run the Python code. and Jupyter is the online notebook used to write and run the Python code. and Jupyter is the online notebook used to write and run the Python code. and Jupyter is the online notebook used to write and run the Python code. and Jupyter is the online notebook used to write and run the Python code. and Jupyter is the online notebook used to write and run the Python code. and Jupyter is the online notebook used to write and run the Python code. and Jupyter is the online notebook used to write and run the Python code. and Jupyter is the online notebook used to write and run the Python code. and Jupyter is the online notebook used to write and run the Python code. and Jupyter is the online notebook used to write and run the Python code. and Jupyter is the online notebook used to write and run the Python code. and Jupyter is the online notebook used to write and run the Python code. and Jupyter is the online notebook used to write and run the Python code. and Jupyter is the online notebook used to write and run the Python code. and Jupyter is the online notebook used to write and run the Python code. and Jupyter is the online notebook used to write and run the Python code. and Jupyter is the online notebook used to write and run the Python code. and Jupyter is the online notebook used to write and run the Python code. and Jupyter is the online notebook used to write and run the Python code. and Jupyter is the online notebook used to write and run the Python code. and Jupyter is the online notebook used to write and run the Python code. and Jupyter is the online notebook used to write and run the Python code. and Jupyter is the online notebook used to write and run the Python code. and Jupyter is the online notebook used to write and run the Python code. and Jupyter is the online notebook used to write and run the Python code. and Jupyter is the online notebook used to write and run the Python code. and Jupyter is the online notebook used to write and run the Python code. and Jupyter is the online notebook used to write and run the Python code.'"
      ]
     },
     "execution_count": 78,
     "metadata": {},
     "output_type": "execute_result"
    }
   ],
   "source": [
    "# Write a command that makes a string appear 100 times.\n",
    "e  + f * 100"
   ]
  },
  {
   "cell_type": "code",
   "execution_count": null,
   "id": "a1798cdc-47c6-4026-8609-a31c324929b7",
   "metadata": {},
   "outputs": [],
   "source": []
  }
 ],
 "metadata": {
  "kernelspec": {
   "display_name": "Python 3 (ipykernel)",
   "language": "python",
   "name": "python3"
  },
  "language_info": {
   "codemirror_mode": {
    "name": "ipython",
    "version": 3
   },
   "file_extension": ".py",
   "mimetype": "text/x-python",
   "name": "python",
   "nbconvert_exporter": "python",
   "pygments_lexer": "ipython3",
   "version": "3.12.4"
  }
 },
 "nbformat": 4,
 "nbformat_minor": 5
}
